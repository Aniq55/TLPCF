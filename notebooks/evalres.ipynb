{
 "cells": [
  {
   "cell_type": "code",
   "execution_count": 9,
   "metadata": {},
   "outputs": [],
   "source": [
    "import numpy as np \n",
    "import pandas as pd \n",
    "from functools import reduce\n",
    "import operator\n",
    "from scipy import stats\n"
   ]
  },
  {
   "cell_type": "code",
   "execution_count": 10,
   "metadata": {},
   "outputs": [],
   "source": [
    "def confidence95(metric_list):\n",
    "    # Step 1: Calculate the mean\n",
    "    mean = np.mean(metric_list)\n",
    "    # Step 2: Calculate the standard error of the mean (SEM)\n",
    "    sem = stats.sem(metric_list)\n",
    "    # Step 3: Find the critical value for a 95% confidence interval\n",
    "    confidence_level = 0.95\n",
    "    degrees_of_freedom = len(metric_list) - 1\n",
    "    critical_value = stats.t.ppf((1 + confidence_level) / 2, degrees_of_freedom)\n",
    "\n",
    "    # Step 4: Calculate the margin of error\n",
    "    margin_of_error = critical_value * sem\n",
    "    return margin_of_error"
   ]
  },
  {
   "cell_type": "code",
   "execution_count": 11,
   "metadata": {},
   "outputs": [],
   "source": [
    "LOG_DIR = \"/home/chri6578/Documents/gttp/logs/evalcheck/\"\n",
    "\n",
    "datasets = [ \"wikipedia\", \"reddit\", \"uci\"]\n",
    "# datasets = [\"CanParl\" \"Flights\" \"mooc\" \"SocialEvo\" \"UNtrade\" \n",
    "# \"Contacts\" \"enron\" \"lastfm\" \"reddit\" \"uci\" \"UNvote\" \"wikipedia\"]\n",
    "\n",
    "metrics = ['acc', 'auc', 'ap']\n",
    "splits = ['val', 'test']\n",
    "models = ['TGAT', 'JODIE', 'DyRep', 'TGN', 'CAWN']\n",
    "\n",
    "names_list ={\n",
    "    'test': ['model', 'distort', 'sample', 'split', 'inference', 'acc', 'auc', 'ap'],\n",
    "    'val': ['model', 'distort', 'sample', 'split', 'inference', 'acc', 'auc', 'ap', 'ep']\n",
    "}\n"
   ]
  },
  {
   "cell_type": "code",
   "execution_count": 17,
   "metadata": {},
   "outputs": [],
   "source": [
    "dataset = datasets[2]\n",
    "split = splits[1]\n",
    "model = models[4] "
   ]
  },
  {
   "cell_type": "code",
   "execution_count": 18,
   "metadata": {},
   "outputs": [],
   "source": [
    "file_name = LOG_DIR+dataset+f'_{split}.log'\n",
    "log_file = pd.read_csv(file_name, delimiter='\\t',\n",
    "                    names= names_list[split])\n",
    "\n",
    "log_file['distort'] = log_file['distort'].fillna('none')"
   ]
  },
  {
   "cell_type": "code",
   "execution_count": 28,
   "metadata": {},
   "outputs": [],
   "source": [
    "RESULT = {}\n",
    "\n",
    "for metric in metrics:\n",
    "    metric_list = list(log_file[(log_file['model']==model)&(log_file['inference']=='tdv')&(log_file['distort']=='none')][metric][1:])\n",
    "    RESULT[metric] = (np.mean(metric_list), confidence95(metric_list))\n",
    "    \n",
    "metric_all = [ [f\"{RESULT[metric][0]:.4f}\", f\"{RESULT[metric][1]:.1e}\"] for metric in metrics]\n",
    "metric_all = reduce(operator.concat, metric_all)\n",
    "    "
   ]
  },
  {
   "cell_type": "code",
   "execution_count": 29,
   "metadata": {},
   "outputs": [
    {
     "data": {
      "text/plain": [
       "('CAWN', 'uci')"
      ]
     },
     "execution_count": 29,
     "metadata": {},
     "output_type": "execute_result"
    }
   ],
   "source": [
    "model, dataset"
   ]
  },
  {
   "cell_type": "code",
   "execution_count": 30,
   "metadata": {},
   "outputs": [
    {
     "data": {
      "text/plain": [
       "['0.7695', '6.5e-03', '0.8495', '7.0e-03', '0.8866', '2.4e-03']"
      ]
     },
     "execution_count": 30,
     "metadata": {},
     "output_type": "execute_result"
    }
   ],
   "source": [
    "metric_all"
   ]
  },
  {
   "cell_type": "code",
   "execution_count": null,
   "metadata": {},
   "outputs": [],
   "source": []
  },
  {
   "cell_type": "code",
   "execution_count": null,
   "metadata": {},
   "outputs": [],
   "source": []
  }
 ],
 "metadata": {
  "kernelspec": {
   "display_name": "ml",
   "language": "python",
   "name": "python3"
  },
  "language_info": {
   "codemirror_mode": {
    "name": "ipython",
    "version": 3
   },
   "file_extension": ".py",
   "mimetype": "text/x-python",
   "name": "python",
   "nbconvert_exporter": "python",
   "pygments_lexer": "ipython3",
   "version": "3.11.3"
  }
 },
 "nbformat": 4,
 "nbformat_minor": 2
}
